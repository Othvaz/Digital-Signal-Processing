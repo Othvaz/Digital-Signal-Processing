{
 "cells": [
  {
   "cell_type": "code",
   "execution_count": 2,
   "id": "e027d207-08e1-456d-9fde-e22158a715ab",
   "metadata": {},
   "outputs": [],
   "source": [
    "from IPython.display import Image #just to display"
   ]
  },
  {
   "cell_type": "code",
   "execution_count": 5,
   "id": "0220d5e1-5747-4af2-9b84-75c7258fbdc2",
   "metadata": {},
   "outputs": [
    {
     "data": {
      "text/html": [
       "<img src=\"Week5_17.png\" width=\"300\" height=\"300\"/>"
      ],
      "text/plain": [
       "<IPython.core.display.Image object>"
      ]
     },
     "execution_count": 5,
     "metadata": {},
     "output_type": "execute_result"
    }
   ],
   "source": [
    "Image(url=\"Week5_17.png\", width=300, height=300) "
   ]
  },
  {
   "cell_type": "code",
   "execution_count": null,
   "id": "11b489f1-be34-47a5-a238-59eafcc72362",
   "metadata": {},
   "outputs": [],
   "source": []
  }
 ],
 "metadata": {
  "kernelspec": {
   "display_name": "Python 3 (ipykernel)",
   "language": "python",
   "name": "python3"
  },
  "language_info": {
   "codemirror_mode": {
    "name": "ipython",
    "version": 3
   },
   "file_extension": ".py",
   "mimetype": "text/x-python",
   "name": "python",
   "nbconvert_exporter": "python",
   "pygments_lexer": "ipython3",
   "version": "3.11.7"
  }
 },
 "nbformat": 4,
 "nbformat_minor": 5
}
